{
  "nbformat": 4,
  "nbformat_minor": 0,
  "metadata": {
    "colab": {
      "provenance": []
    },
    "kernelspec": {
      "name": "python3",
      "display_name": "Python 3"
    },
    "language_info": {
      "name": "python"
    }
  },
  "cells": [
    {
      "cell_type": "markdown",
      "source": [
        "[![](https://mermaid.ink/img/pako:eNptkc1Kw0AYRV9lmHX6AlkIbdPWjStdOcliaKZNoPkhThaSFEqlJdhNQF2IEolQUYTiX6WCxZdxkvEtTJNaIzirOd89DMN3Pdi2VAJF2HWwrYE9STZBdqroc_mRnt7ywYi_L9hoqoBKZQvUULpYprM4Dceg2iUmVQq9lqd1jwXjJAr5_SR5HH7FEYsm_UKorwSfD2N29JZcTfndtQ8kVGb2ELDZq1LWk-MBj0-KN33QQGX-R-dPMZuc_-hNVOY_popT_toWSsxcWBik8zCJLtdRo4gKaJaRlcM2YhcRGz6n85vNghQoQIM4BtbVbI_eSpch1YhBZChmV5V0sNujMpTJfqZil1q7h2YbitRxiQBdW8WUSDpOGjCg2MG9g820oerUcjZDG5v7lvUrkTzeKQrMexSgY7ldbW30v0kGPk8?type=png)](https://mermaid.live/edit#pako:eNptkc1Kw0AYRV9lmHX6AlkIbdPWjStdOcliaKZNoPkhThaSFEqlJdhNQF2IEolQUYTiX6WCxZdxkvEtTJNaIzirOd89DMN3Pdi2VAJF2HWwrYE9STZBdqroc_mRnt7ywYi_L9hoqoBKZQvUULpYprM4Dceg2iUmVQq9lqd1jwXjJAr5_SR5HH7FEYsm_UKorwSfD2N29JZcTfndtQ8kVGb2ELDZq1LWk-MBj0-KN33QQGX-R-dPMZuc_-hNVOY_popT_toWSsxcWBik8zCJLtdRo4gKaJaRlcM2YhcRGz6n85vNghQoQIM4BtbVbI_eSpch1YhBZChmV5V0sNujMpTJfqZil1q7h2YbitRxiQBdW8WUSDpOGjCg2MG9g820oerUcjZDG5v7lvUrkTzeKQrMexSgY7ldbW30v0kGPk8)"
      ],
      "metadata": {
        "id": "tF3gHmNoL9Pe"
      }
    },
    {
      "cell_type": "code",
      "source": [
        "%%capture\n",
        "!pip install google-generativeai\n",
        "!pip install yfinance pandas_ta"
      ],
      "metadata": {
        "id": "wBEMitvpHhkr"
      },
      "execution_count": 1,
      "outputs": []
    },
    {
      "cell_type": "code",
      "source": [
        "import yfinance as yf\n",
        "import pandas_ta as ta\n",
        "import pandas as pd\n",
        "import os\n",
        "import google.generativeai as genai\n",
        "from IPython.display import Markdown"
      ],
      "metadata": {
        "id": "xo7rWj4UHMB-"
      },
      "execution_count": 3,
      "outputs": []
    },
    {
      "cell_type": "code",
      "source": [
        "from google.colab import userdata\n",
        "os.environ[\"GOOGLE_API_KEY\"] = userdata.get('GOOGLE_API_KEY')\n",
        "genai.configure(api_key=os.environ[\"GOOGLE_API_KEY\"])"
      ],
      "metadata": {
        "id": "rX83JokTIZUS"
      },
      "execution_count": null,
      "outputs": []
    },
    {
      "cell_type": "code",
      "source": [
        "# 股价走势查询函数\n",
        "def get_stock_price_history(symbol, period=\"1mo\"):\n",
        "    try:\n",
        "        stock = yf.Ticker(symbol)\n",
        "        history = stock.history(period=period)\n",
        "        return history.tail().to_dict('records')\n",
        "    except Exception as e:\n",
        "        return f\"无法获取 {symbol} 的历史价格: {str(e)}\""
      ],
      "metadata": {
        "id": "i9sx9IOpHYMR"
      },
      "execution_count": null,
      "outputs": []
    },
    {
      "cell_type": "code",
      "source": [
        "# 股票信息查询函数\n",
        "def get_stock_info(symbol):\n",
        "    try:\n",
        "        stock = yf.Ticker(symbol)\n",
        "        info = stock.info\n",
        "        return {\n",
        "            '公司名称': info.get('longName', 'N/A'),\n",
        "            '现价': info.get('currentPrice', 'N/A'),\n",
        "            '市值': info.get('marketCap', 'N/A'),\n",
        "            '产业': info.get('industry', 'N/A'),\n",
        "            '52周高点': info.get('fiftyTwoWeekHigh', 'N/A'),\n",
        "            '52周低点': info.get('fiftyTwoWeekLow', 'N/A')\n",
        "        }\n",
        "    except Exception as e:\n",
        "        return f\"无法获取 {symbol} 的信息: {str(e)}\""
      ],
      "metadata": {
        "id": "nLiHIs10HXV5"
      },
      "execution_count": null,
      "outputs": []
    },
    {
      "cell_type": "code",
      "source": [
        "# 财务数据查询函数\n",
        "def get_financial_data(symbol):\n",
        "    try:\n",
        "        stock = yf.Ticker(symbol)\n",
        "        financials = stock.financials.iloc[:, 0]\n",
        "        balance_sheet = stock.balance_sheet.iloc[:, 0]\n",
        "        return {\n",
        "            '营收': financials.get('Total Revenue', 'N/A'),\n",
        "            '净利': financials.get('Net Income', 'N/A'),\n",
        "            '总资产': balance_sheet.get('Total Assets', 'N/A'),\n",
        "            '总负债': balance_sheet.get('Total Liabilities Net Minority Interest', 'N/A'),\n",
        "            'ROE': stock.info.get('returnOnEquity', 'N/A'),\n",
        "            '本益比': stock.info.get('trailingPE', 'N/A')\n",
        "        }\n",
        "    except Exception as e:\n",
        "        return f\"无法获取 {symbol} 的财务数据: {str(e)}\""
      ],
      "metadata": {
        "id": "LoDxsIejH-m2"
      },
      "execution_count": null,
      "outputs": []
    },
    {
      "cell_type": "code",
      "source": [
        "# 技术分析函数\n",
        "def get_technical_analysis(symbol, period=\"6mo\"):\n",
        "    try:\n",
        "        stock = yf.Ticker(symbol)\n",
        "        df = stock.history(period=period)\n",
        "\n",
        "        # 计算技术指标\n",
        "        df['RSI'] = ta.rsi(df['Close'], length=14)\n",
        "        macd = ta.macd(df['Close'])\n",
        "        df = pd.concat([df, macd], axis=1)\n",
        "        df['SMA_20'] = ta.sma(df['Close'], length=20)\n",
        "        df['SMA_60'] = ta.sma(df['Close'], length=60)\n",
        "        stoch = ta.stoch(df['High'], df['Low'], df['Close'])\n",
        "        df = pd.concat([df, stoch], axis=1)\n",
        "\n",
        "        latest = df.iloc[-1]\n",
        "        return {\n",
        "            'indicators': {\n",
        "                'RSI': round(latest['RSI'], 2),\n",
        "                'MACD': round(latest['MACD_12_26_9'], 2),\n",
        "                'MACD_Signal': round(latest['MACDs_12_26_9'], 2),\n",
        "                'SMA_20': round(latest['SMA_20'], 2),\n",
        "                'SMA_60': round(latest['SMA_60'], 2),\n",
        "                'K值': round(latest['STOCHk_14_3_3'], 2),\n",
        "                'D值': round(latest['STOCHd_14_3_3'], 2),\n",
        "                '收盘价': round(latest['Close'], 2)\n",
        "            },\n",
        "            'historical_data': df.tail().to_dict('records')\n",
        "        }\n",
        "    except Exception as e:\n",
        "        return f\"无法进行技术分析: {str(e)}\""
      ],
      "metadata": {
        "id": "YQyKmSOrIAw_"
      },
      "execution_count": null,
      "outputs": []
    },
    {
      "cell_type": "code",
      "source": [
        "# Gemini 专业分析函数\n",
        "def analyze_with_gemini(query, context):\n",
        "    model = genai.GenerativeModel('gemini-pro')\n",
        "    prompt = f\"\"\"\n",
        "    你是一个专业的金融分析助手，请根据以下数据回答用户问题：\n",
        "    上下文数据：{context}\n",
        "    用户问题：{query}\n",
        "    请用专业且易懂的方式进行分析，并给出投资建议。\n",
        "    \"\"\"\n",
        "    try:\n",
        "        response = model.generate_content(prompt)\n",
        "        return response.text\n",
        "    except Exception as e:\n",
        "        return f\"API请求失败: {str(e)}\""
      ],
      "metadata": {
        "id": "FoyhWXcwIEk9"
      },
      "execution_count": null,
      "outputs": []
    },
    {
      "cell_type": "code",
      "source": [
        "# 主交互系统\n",
        "def main():\n",
        "    print(\"欢迎使用股票市场助手（Gemini版）！\")\n",
        "    print(\"可查询功能：实时报价/财务数据/技术分析/综合评估\")\n",
        "\n",
        "    while True:\n",
        "        symbol = input(\"\\n请输入股票代码 (e.g. 2330.TW) 或输入exit退出: \")\n",
        "        if symbol.lower() in ['exit', 'quit']:\n",
        "            break\n",
        "\n",
        "        # 获取基础数据\n",
        "        price_data = get_stock_price_history(symbol)\n",
        "        info_data = get_stock_info(symbol)\n",
        "        financial_data = get_financial_data(symbol)\n",
        "        technical_data = get_technical_analysis(symbol)\n",
        "\n",
        "        # 构建分析上下文\n",
        "        context = {\n",
        "            '基本信息': info_data,\n",
        "            '财务数据': financial_data,\n",
        "            '技术指标': technical_data.get('indicators', {}),\n",
        "            '历史数据': technical_data.get('historical_data', [])\n",
        "        }\n",
        "\n",
        "        # 获取用户问题\n",
        "        query = input(\"请输入您的分析问题 (e.g. 技术面分析/财务健康度/综合评估): \")\n",
        "\n",
        "        # 使用Gemini进行分析\n",
        "        analysis = analyze_with_gemini(query, context)\n",
        "        display(Markdown(f\"**Gemini分析结果:**\\n{analysis}\"))\n",
        "\n",
        "if __name__ == \"__main__\":\n",
        "    main()"
      ],
      "metadata": {
        "id": "OBPznZIyIOR5"
      },
      "execution_count": null,
      "outputs": []
    }
  ]
}