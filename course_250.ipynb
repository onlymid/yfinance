{
  "nbformat": 4,
  "nbformat_minor": 0,
  "metadata": {
    "colab": {
      "provenance": [],
      "include_colab_link": true
    },
    "kernelspec": {
      "name": "python3",
      "display_name": "Python 3"
    },
    "language_info": {
      "name": "python"
    }
  },
  "cells": [
    {
      "cell_type": "markdown",
      "metadata": {
        "id": "view-in-github",
        "colab_type": "text"
      },
      "source": [
        "<a href=\"https://colab.research.google.com/github/onlymid/yfinance/blob/main/course_250.ipynb\" target=\"_parent\"><img src=\"https://colab.research.google.com/assets/colab-badge.svg\" alt=\"Open In Colab\"/></a>"
      ]
    },
    {
      "cell_type": "markdown",
      "source": [
        "[![](https://mermaid.ink/img/pako:eNptkc1Kw0AYRV9lmHX6AlkIbdPWjStdOcliaKZNoPkhThaSFEqlJdhNQF2IEolQUYTiX6WCxZdxkvEtTJNaIzirOd89DMN3Pdi2VAJF2HWwrYE9STZBdqroc_mRnt7ywYi_L9hoqoBKZQvUULpYprM4Dceg2iUmVQq9lqd1jwXjJAr5_SR5HH7FEYsm_UKorwSfD2N29JZcTfndtQ8kVGb2ELDZq1LWk-MBj0-KN33QQGX-R-dPMZuc_-hNVOY_popT_toWSsxcWBik8zCJLtdRo4gKaJaRlcM2YhcRGz6n85vNghQoQIM4BtbVbI_eSpch1YhBZChmV5V0sNujMpTJfqZil1q7h2YbitRxiQBdW8WUSDpOGjCg2MG9g820oerUcjZDG5v7lvUrkTzeKQrMexSgY7ldbW30v0kGPk8?type=png)](https://mermaid.live/edit#pako:eNptkc1Kw0AYRV9lmHX6AlkIbdPWjStdOcliaKZNoPkhThaSFEqlJdhNQF2IEolQUYTiX6WCxZdxkvEtTJNaIzirOd89DMN3Pdi2VAJF2HWwrYE9STZBdqroc_mRnt7ywYi_L9hoqoBKZQvUULpYprM4Dceg2iUmVQq9lqd1jwXjJAr5_SR5HH7FEYsm_UKorwSfD2N29JZcTfndtQ8kVGb2ELDZq1LWk-MBj0-KN33QQGX-R-dPMZuc_-hNVOY_popT_toWSsxcWBik8zCJLtdRo4gKaJaRlcM2YhcRGz6n85vNghQoQIM4BtbVbI_eSpch1YhBZChmV5V0sNujMpTJfqZil1q7h2YbitRxiQBdW8WUSDpOGjCg2MG9g820oerUcjZDG5v7lvUrkTzeKQrMexSgY7ldbW30v0kGPk8)"
      ],
      "metadata": {
        "id": "tF3gHmNoL9Pe"
      }
    },
    {
      "cell_type": "code",
      "source": [
        "%%capture\n",
        "!pip install google-generativeai\n",
        "!pip install yfinance pandas_ta"
      ],
      "metadata": {
        "id": "wBEMitvpHhkr"
      },
      "execution_count": 1,
      "outputs": []
    },
    {
      "cell_type": "code",
      "source": [
        "import yfinance as yf\n",
        "import pandas_ta as ta\n",
        "import pandas as pd\n",
        "import os\n",
        "import google.generativeai as genai\n",
        "from IPython.display import Markdown"
      ],
      "metadata": {
        "id": "xo7rWj4UHMB-"
      },
      "execution_count": 3,
      "outputs": []
    },
    {
      "cell_type": "code",
      "source": [
        "from google.colab import userdata\n",
        "os.environ[\"GOOGLE_API_KEY\"] = userdata.get('GOOGLE_API_KEY')\n",
        "genai.configure(api_key=os.environ[\"GOOGLE_API_KEY\"])"
      ],
      "metadata": {
        "id": "rX83JokTIZUS"
      },
      "execution_count": 4,
      "outputs": []
    },
    {
      "cell_type": "code",
      "source": [
        "# 股价走势查询函数\n",
        "def get_stock_price_history(symbol, period=\"1mo\"):\n",
        "    try:\n",
        "        stock = yf.Ticker(symbol)\n",
        "        history = stock.history(period=period)\n",
        "        return history.tail().to_dict('records')\n",
        "    except Exception as e:\n",
        "        return f\"无法获取 {symbol} 的历史价格: {str(e)}\""
      ],
      "metadata": {
        "id": "i9sx9IOpHYMR"
      },
      "execution_count": 5,
      "outputs": []
    },
    {
      "cell_type": "code",
      "source": [
        "# 股票信息查询函数\n",
        "def get_stock_info(symbol):\n",
        "    try:\n",
        "        stock = yf.Ticker(symbol)\n",
        "        info = stock.info\n",
        "        return {\n",
        "            '公司名称': info.get('longName', 'N/A'),\n",
        "            '现价': info.get('currentPrice', 'N/A'),\n",
        "            '市值': info.get('marketCap', 'N/A'),\n",
        "            '产业': info.get('industry', 'N/A'),\n",
        "            '52周高点': info.get('fiftyTwoWeekHigh', 'N/A'),\n",
        "            '52周低点': info.get('fiftyTwoWeekLow', 'N/A')\n",
        "        }\n",
        "    except Exception as e:\n",
        "        return f\"无法获取 {symbol} 的信息: {str(e)}\""
      ],
      "metadata": {
        "id": "nLiHIs10HXV5"
      },
      "execution_count": 6,
      "outputs": []
    },
    {
      "cell_type": "code",
      "source": [
        "# 财务数据查询函数\n",
        "def get_financial_data(symbol):\n",
        "    try:\n",
        "        stock = yf.Ticker(symbol)\n",
        "        financials = stock.financials.iloc[:, 0]\n",
        "        balance_sheet = stock.balance_sheet.iloc[:, 0]\n",
        "        return {\n",
        "            '营收': financials.get('Total Revenue', 'N/A'),\n",
        "            '净利': financials.get('Net Income', 'N/A'),\n",
        "            '总资产': balance_sheet.get('Total Assets', 'N/A'),\n",
        "            '总负债': balance_sheet.get('Total Liabilities Net Minority Interest', 'N/A'),\n",
        "            'ROE': stock.info.get('returnOnEquity', 'N/A'),\n",
        "            '本益比': stock.info.get('trailingPE', 'N/A')\n",
        "        }\n",
        "    except Exception as e:\n",
        "        return f\"无法获取 {symbol} 的财务数据: {str(e)}\""
      ],
      "metadata": {
        "id": "LoDxsIejH-m2"
      },
      "execution_count": 7,
      "outputs": []
    },
    {
      "cell_type": "code",
      "source": [
        "# 技术分析函数\n",
        "def get_technical_analysis(symbol, period=\"6mo\"):\n",
        "    try:\n",
        "        stock = yf.Ticker(symbol)\n",
        "        df = stock.history(period=period)\n",
        "\n",
        "        # 计算技术指标\n",
        "        df['RSI'] = ta.rsi(df['Close'], length=14)\n",
        "        macd = ta.macd(df['Close'])\n",
        "        df = pd.concat([df, macd], axis=1)\n",
        "        df['SMA_20'] = ta.sma(df['Close'], length=20)\n",
        "        df['SMA_60'] = ta.sma(df['Close'], length=60)\n",
        "        stoch = ta.stoch(df['High'], df['Low'], df['Close'])\n",
        "        df = pd.concat([df, stoch], axis=1)\n",
        "\n",
        "        latest = df.iloc[-1]\n",
        "        return {\n",
        "            'indicators': {\n",
        "                'RSI': round(latest['RSI'], 2),\n",
        "                'MACD': round(latest['MACD_12_26_9'], 2),\n",
        "                'MACD_Signal': round(latest['MACDs_12_26_9'], 2),\n",
        "                'SMA_20': round(latest['SMA_20'], 2),\n",
        "                'SMA_60': round(latest['SMA_60'], 2),\n",
        "                'K值': round(latest['STOCHk_14_3_3'], 2),\n",
        "                'D值': round(latest['STOCHd_14_3_3'], 2),\n",
        "                '收盘价': round(latest['Close'], 2)\n",
        "            },\n",
        "            'historical_data': df.tail().to_dict('records')\n",
        "        }\n",
        "    except Exception as e:\n",
        "        return f\"无法进行技术分析: {str(e)}\""
      ],
      "metadata": {
        "id": "YQyKmSOrIAw_"
      },
      "execution_count": 8,
      "outputs": []
    },
    {
      "cell_type": "code",
      "source": [
        "# Gemini 专业分析函数\n",
        "def analyze_with_gemini(query, context):\n",
        "    model = genai.GenerativeModel('gemini-2.0-pro-exp-02-05')\n",
        "    prompt = f\"\"\"\n",
        "    你是一个专业的金融分析助手，请根据以下数据回答用户问题：\n",
        "    上下文数据：{context}\n",
        "    用户问题：{query}\n",
        "    请用专业且易懂的方式进行分析，并给出投资建议。\n",
        "    \"\"\"\n",
        "    try:\n",
        "        response = model.generate_content(prompt)\n",
        "        return response.text\n",
        "    except Exception as e:\n",
        "        return f\"API请求失败: {str(e)}\""
      ],
      "metadata": {
        "id": "FoyhWXcwIEk9"
      },
      "execution_count": 11,
      "outputs": []
    },
    {
      "cell_type": "code",
      "source": [
        "# 主交互系统\n",
        "def main():\n",
        "    print(\"欢迎使用股票市场助手（Gemini版）！\")\n",
        "    print(\"可查询功能：实时报价/财务数据/技术分析/综合评估\")\n",
        "\n",
        "    while True:\n",
        "        symbol = input(\"\\n请输入股票代码 (e.g. 2330.TW) 或输入exit退出: \")\n",
        "        if symbol.lower() in ['exit', 'quit']:\n",
        "            break\n",
        "\n",
        "        # 获取基础数据\n",
        "        price_data = get_stock_price_history(symbol)\n",
        "        info_data = get_stock_info(symbol)\n",
        "        financial_data = get_financial_data(symbol)\n",
        "        technical_data = get_technical_analysis(symbol)\n",
        "\n",
        "        # 构建分析上下文\n",
        "        context = {\n",
        "            '基本信息': info_data,\n",
        "            '财务数据': financial_data,\n",
        "            '技术指标': technical_data.get('indicators', {}),\n",
        "            '历史数据': technical_data.get('historical_data', [])\n",
        "        }\n",
        "\n",
        "        # 获取用户问题\n",
        "        query = input(\"请输入您的分析问题 (e.g. 技术面分析/财务健康度/综合评估): \")\n",
        "\n",
        "        # 使用Gemini进行分析\n",
        "        analysis = analyze_with_gemini(query, context)\n",
        "        display(Markdown(f\"**Gemini分析结果:**\\n{analysis}\"))\n",
        "\n",
        "if __name__ == \"__main__\":\n",
        "    main()"
      ],
      "metadata": {
        "id": "OBPznZIyIOR5",
        "colab": {
          "base_uri": "https://localhost:8080/",
          "height": 817
        },
        "outputId": "222dbed3-c8ed-4a8a-b5a3-2426d944c937"
      },
      "execution_count": null,
      "outputs": [
        {
          "name": "stdout",
          "output_type": "stream",
          "text": [
            "欢迎使用股票市场助手（Gemini版）！\n",
            "可查询功能：实时报价/财务数据/技术分析/综合评估\n",
            "\n",
            "请输入股票代码 (e.g. 2330.TW) 或输入exit退出: 600888.SS\n",
            "请输入您的分析问题 (e.g. 技术面分析/财务健康度/综合评估): 综合\n"
          ]
        },
        {
          "output_type": "display_data",
          "data": {
            "text/plain": [
              "<IPython.core.display.Markdown object>"
            ],
            "text/markdown": "**Gemini分析结果:**\n好的，下面为您综合分析Xinjiang Joinworld Co., Ltd. (新疆众和) 的投资前景：\n\n**公司概况与财务健康状况**\n\n*   **行业地位：** 新疆众和属于铝产业，这是一个周期性较强的行业，容易受到宏观经济和市场供需关系的影响。\n*   **规模与市值：** 公司市值约100亿人民币，在行业内属于中等规模。\n*   **盈利能力：**\n    *   营收超过65亿，净利润超过15亿，显示出公司良好的盈利能力。\n    *   净资产收益率（ROE）为12.7%，表明公司利用股东资金创造利润的效率较好。\n    *   市盈率（P/E）约为7.79，相对于其盈利能力，估值相对较低。\n*   **偿债能力：** 总资产超过167亿，总负债约70亿，资产负债率约为42%，财务结构相对稳健。\n\n**技术指标分析**\n\n*   **短期趋势：**\n    *   相对强弱指数（RSI）为64.43，接近超买区域（通常为70以上），可能存在短期回调风险。\n    *   平滑异同移动平均线（MACD）为正值，且MACD线高于信号线，表明短期动能积极。\n    *   20日均线和60日均线均为正值，且股价高于均线，表明股价处于上升趋势。\n*   **随机指标：** K值和D值均高于70，处于较高水平，也提示短期内可能存在回调。\n\n**历史数据观察**\n\n*   最近几个交易日，股价在小幅波动中上涨，成交量有所放大，显示市场对该股的关注度较高。\n\n**投资建议**\n\n综合来看，新疆众和基本面良好，财务状况稳健，盈利能力较强，且估值相对合理。技术指标显示短期内股价处于上升趋势，但存在一定的回调风险。\n\n**投资策略：**\n\n1.  **中长期投资者：** 如果您看好铝行业的前景，并且能够承受一定的周期性波动，可以考虑将新疆众和纳入您的投资组合。鉴于其良好的基本面和较低的估值，可以逢低逐步买入，并长期持有。\n2.  **短期投资者：** 如果您更关注短期交易机会，可以密切关注技术指标的变化。目前RSI和随机指标均处于较高水平，可以等待回调至合理价位（如20日均线附近）再考虑买入。同时，设置止损位以控制风险。\n\n**风险提示：**\n\n*   **行业风险：** 铝行业受宏观经济和市场供需影响较大，价格波动可能较为剧烈。\n*   **政策风险：** 环保政策、产业政策等变化可能对公司经营产生影响。\n*   **市场风险：** 股市整体走势、投资者情绪等因素可能导致股价波动。\n\n**免责声明：**\n\n本分析仅供参考，不构成任何投资建议。投资者应根据自身风险承受能力和投资目标，独立做出决策。\n"
          },
          "metadata": {}
        }
      ]
    }
  ]
}