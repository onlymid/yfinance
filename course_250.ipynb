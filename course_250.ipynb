{
  "nbformat": 4,
  "nbformat_minor": 0,
  "metadata": {
    "colab": {
      "provenance": []
    },
    "kernelspec": {
      "name": "python3",
      "display_name": "Python 3"
    },
    "language_info": {
      "name": "python"
    }
  },
  "cells": [
    {
      "cell_type": "markdown",
      "source": [
        "[![](https://mermaid.ink/img/pako:eNptkc1Kw0AYRV9lmHX6AlkIbdPWjStdOcliaKZNoPkhThaSFEqlJdhNQF2IEolQUYTiX6WCxZdxkvEtTJNaIzirOd89DMN3Pdi2VAJF2HWwrYE9STZBdqroc_mRnt7ywYi_L9hoqoBKZQvUULpYprM4Dceg2iUmVQq9lqd1jwXjJAr5_SR5HH7FEYsm_UKorwSfD2N29JZcTfndtQ8kVGb2ELDZq1LWk-MBj0-KN33QQGX-R-dPMZuc_-hNVOY_popT_toWSsxcWBik8zCJLtdRo4gKaJaRlcM2YhcRGz6n85vNghQoQIM4BtbVbI_eSpch1YhBZChmV5V0sNujMpTJfqZil1q7h2YbitRxiQBdW8WUSDpOGjCg2MG9g820oerUcjZDG5v7lvUrkTzeKQrMexSgY7ldbW30v0kGPk8?type=png)](https://mermaid.live/edit#pako:eNptkc1Kw0AYRV9lmHX6AlkIbdPWjStdOcliaKZNoPkhThaSFEqlJdhNQF2IEolQUYTiX6WCxZdxkvEtTJNaIzirOd89DMN3Pdi2VAJF2HWwrYE9STZBdqroc_mRnt7ywYi_L9hoqoBKZQvUULpYprM4Dceg2iUmVQq9lqd1jwXjJAr5_SR5HH7FEYsm_UKorwSfD2N29JZcTfndtQ8kVGb2ELDZq1LWk-MBj0-KN33QQGX-R-dPMZuc_-hNVOY_popT_toWSsxcWBik8zCJLtdRo4gKaJaRlcM2YhcRGz6n85vNghQoQIM4BtbVbI_eSpch1YhBZChmV5V0sNujMpTJfqZil1q7h2YbitRxiQBdW8WUSDpOGjCg2MG9g820oerUcjZDG5v7lvUrkTzeKQrMexSgY7ldbW30v0kGPk8)"
      ],
      "metadata": {
        "id": "tF3gHmNoL9Pe"
      }
    },
    {
      "cell_type": "code",
      "source": [
        "%%capture\n",
        "!pip install google-generativeai\n",
        "!pip install yfinance pandas_ta"
      ],
      "metadata": {
        "id": "wBEMitvpHhkr"
      },
      "execution_count": null,
      "outputs": []
    },
    {
      "cell_type": "code",
      "source": [
        "import yfinance as yf\n",
        "import pandas_ta as ta\n",
        "import pandas as pd\n",
        "import os\n",
        "import google.generativeai as genai\n",
        "from IPython.display import Markdown"
      ],
      "metadata": {
        "id": "xo7rWj4UHMB-"
      },
      "execution_count": null,
      "outputs": []
    },
    {
      "cell_type": "code",
      "source": [
        "from google.colab import userdata\n",
        "os.environ[\"GEMINI_API_KEY\"] = userdata.get('GEMINI_API_KEY')\n",
        "genai.configure(api_key=os.environ[\"GEMINI_API_KEY\"])"
      ],
      "metadata": {
        "id": "rX83JokTIZUS"
      },
      "execution_count": null,
      "outputs": []
    },
    {
      "cell_type": "code",
      "source": [
        "# 股價走勢查詢函數\n",
        "def get_stock_price_history(symbol, period=\"1mo\"):\n",
        "    try:\n",
        "        stock = yf.Ticker(symbol)\n",
        "        history = stock.history(period=period)\n",
        "        return history.tail().to_dict('records')\n",
        "    except Exception as e:\n",
        "        return f\"無法獲取 {symbol} 的歷史價格: {str(e)}\""
      ],
      "metadata": {
        "id": "i9sx9IOpHYMR"
      },
      "execution_count": null,
      "outputs": []
    },
    {
      "cell_type": "code",
      "source": [
        "# 股票資訊查詢函數\n",
        "def get_stock_info(symbol):\n",
        "    try:\n",
        "        stock = yf.Ticker(symbol)\n",
        "        info = stock.info\n",
        "        return {\n",
        "            '公司名稱': info.get('longName', 'N/A'),\n",
        "            '現價': info.get('currentPrice', 'N/A'),\n",
        "            '市值': info.get('marketCap', 'N/A'),\n",
        "            '產業': info.get('industry', 'N/A'),\n",
        "            '52週高點': info.get('fiftyTwoWeekHigh', 'N/A'),\n",
        "            '52週低點': info.get('fiftyTwoWeekLow', 'N/A')\n",
        "        }\n",
        "    except Exception as e:\n",
        "        return f\"無法獲取 {symbol} 的資訊: {str(e)}\""
      ],
      "metadata": {
        "id": "nLiHIs10HXV5"
      },
      "execution_count": null,
      "outputs": []
    },
    {
      "cell_type": "code",
      "source": [
        "# 基本財務數據查詢函數\n",
        "def get_financial_data(symbol):\n",
        "    try:\n",
        "        stock = yf.Ticker(symbol)\n",
        "        financials = stock.financials.iloc[:, 0]\n",
        "        balance_sheet = stock.balance_sheet.iloc[:, 0]\n",
        "        return {\n",
        "            '營收': financials.get('Total Revenue', 'N/A'),\n",
        "            '淨利': financials.get('Net Income', 'N/A'),\n",
        "            '總資產': balance_sheet.get('Total Assets', 'N/A'),\n",
        "            '總負債': balance_sheet.get('Total Liabilities Net Minority Interest', 'N/A'),\n",
        "            'ROE': stock.info.get('returnOnEquity', 'N/A'),\n",
        "            '本益比': stock.info.get('trailingPE', 'N/A')\n",
        "        }\n",
        "    except Exception as e:\n",
        "        return f\"無法獲取 {symbol} 的財務數據: {str(e)}\""
      ],
      "metadata": {
        "id": "LoDxsIejH-m2"
      },
      "execution_count": null,
      "outputs": []
    },
    {
      "cell_type": "code",
      "source": [
        "# 技術分析函數\n",
        "def get_technical_analysis(symbol, period=\"6mo\"):\n",
        "    try:\n",
        "        stock = yf.Ticker(symbol)\n",
        "        df = stock.history(period=period)\n",
        "\n",
        "        # 計算技術指標\n",
        "        df['RSI'] = ta.rsi(df['Close'], length=14)\n",
        "        macd = ta.macd(df['Close'])\n",
        "        df = pd.concat([df, macd], axis=1)\n",
        "        df['SMA_20'] = ta.sma(df['Close'], length=20)\n",
        "        df['SMA_60'] = ta.sma(df['Close'], length=60)\n",
        "        stoch = ta.stoch(df['High'], df['Low'], df['Close'])\n",
        "        df = pd.concat([df, stoch], axis=1)\n",
        "\n",
        "        latest = df.iloc[-1]\n",
        "        return {\n",
        "            'indicators': {\n",
        "                'RSI': round(latest['RSI'], 2),\n",
        "                'MACD': round(latest['MACD_12_26_9'], 2),\n",
        "                'MACD_Signal': round(latest['MACDs_12_26_9'], 2),\n",
        "                'SMA_20': round(latest['SMA_20'], 2),\n",
        "                'SMA_60': round(latest['SMA_60'], 2),\n",
        "                'K值': round(latest['STOCHk_14_3_3'], 2),\n",
        "                'D值': round(latest['STOCHd_14_3_3'], 2),\n",
        "                '收盤價': round(latest['Close'], 2)\n",
        "            },\n",
        "            'historical_data': df.tail().to_dict('records')\n",
        "        }\n",
        "    except Exception as e:\n",
        "        return f\"無法進行技術分析: {str(e)}\""
      ],
      "metadata": {
        "id": "YQyKmSOrIAw_"
      },
      "execution_count": null,
      "outputs": []
    },
    {
      "cell_type": "code",
      "source": [
        "# Gemini 專業分析函數\n",
        "def analyze_with_gemini(query, context):\n",
        "    model = genai.GenerativeModel('gemini-2.0-pro-exp-02-05')\n",
        "    prompt = f\"\"\"\n",
        "    你是一個專業的金融分析助手，請根據以下數據回答用戶問題：\n",
        "    上下文數據：{context}\n",
        "    用戶問題：{query}\n",
        "    請用專業且易懂的方式進行分析，並給出投資建議。\n",
        "    \"\"\"\n",
        "    try:\n",
        "        response = model.generate_content(prompt)\n",
        "        return response.text\n",
        "    except Exception as e:\n",
        "        return f\"API請求失敗: {str(e)}\""
      ],
      "metadata": {
        "id": "FoyhWXcwIEk9"
      },
      "execution_count": null,
      "outputs": []
    },
    {
      "cell_type": "code",
      "source": [
        "# 主交互系統\n",
        "def main():\n",
        "    print(\"歡迎使用股票市場助手（Gemini版）！\")\n",
        "    print(\"可查詢功能：即時報價/財務數據/技術分析/綜合評估\")\n",
        "\n",
        "    while True:\n",
        "        symbol = input(\"\\n請輸入股票代號 (e.g. 2330.TW) 或輸入exit退出: \")\n",
        "        if symbol.lower() in ['exit', 'quit']:\n",
        "            break\n",
        "\n",
        "        # 獲取基礎數據\n",
        "        price_data = get_stock_price_history(symbol)\n",
        "        info_data = get_stock_info(symbol)\n",
        "        financial_data = get_financial_data(symbol)\n",
        "        technical_data = get_technical_analysis(symbol)\n",
        "\n",
        "        # 構建分析上下文\n",
        "        context = {\n",
        "            '基本資訊': info_data,\n",
        "            '財務數據': financial_data,\n",
        "            '技術指標': technical_data.get('indicators', {}),\n",
        "            '歷史數據': technical_data.get('historical_data', [])\n",
        "        }\n",
        "\n",
        "        # 獲取用戶問題\n",
        "        query = input(\"請輸入您的分析問題 (e.g. 技術面分析/財務健康度/綜合評估): \")\n",
        "\n",
        "        # 使用Gemini進行分析\n",
        "        analysis = analyze_with_gemini(query, context)\n",
        "        display(Markdown(f\"**Gemini分析結果:**\\n{analysis}\"))\n",
        "\n",
        "if __name__ == \"__main__\":\n",
        "    main()"
      ],
      "metadata": {
        "id": "OBPznZIyIOR5"
      },
      "execution_count": null,
      "outputs": []
    }
  ]
}
