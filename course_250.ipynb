{
  "nbformat": 4,
  "nbformat_minor": 0,
  "metadata": {
    "colab": {
      "provenance": []
    },
    "kernelspec": {
      "name": "python3",
      "display_name": "Python 3"
    },
    "language_info": {
      "name": "python"
    }
  },
  "cells": [
    {
      "cell_type": "markdown",
      "source": [
        "[![](https://mermaid.ink/img/pako:eNptkc1Kw0AYRV9lmHX6AlkIbdPWjStdOcliaKZNoPkhThaSFEqlJdhNQF2IEolQUYTiX6WCxZdxkvEtTJNaIzirOd89DMN3Pdi2VAJF2HWwrYE9STZBdqroc_mRnt7ywYi_L9hoqoBKZQvUULpYprM4Dceg2iUmVQq9lqd1jwXjJAr5_SR5HH7FEYsm_UKorwSfD2N29JZcTfndtQ8kVGb2ELDZq1LWk-MBj0-KN33QQGX-R-dPMZuc_-hNVOY-popT_toWSsxcWBik8zCJLtdRo4gKaJaRlcM2YhcRGz6n85vNghQoQIM4BtbVbI_eSpch1YhBZChmV5V0sNujMpTJfqZil1q7h2YbitRxiQBdW8WUSDpOGjCg2MG9g820oerUcjZDG5v7lvUrkTzeKQrMexSgY7ldbW30v0kGPk8?type=png)](https://mermaid.live/edit#pako:eNptkc1Kw0AYRV9lmHX6AlkIbdPWjStdOcliaKZNoPkhThaSFEqlJdhNQF2IEolQUYTiX6WCxZdxkvEtTJNaIzirOd89DMN3Pdi2VAJF2HWwrYE9STZBdqroc_mRnt7ywYi_L9hoqoBKZQvUULpYprM4Dceg2iUmVQq9lqd1jwXjJAr5_SR5HH7FEYsm_UKorwSfD2N29JZcTfndtQ8kVGb2ELDZq1LWk-MBj0-KN33QQGX-R-dPMZuc_-hNVOY-popT_toWSsxcWBik8zCJLtdRo4gKaJaRlcM2YhcRGz6n85vNghQoQIM4BtbVbI_eSpch1YhBZChmV5V0sNujMpTJfqZil1q7h2YbitRxiQBdW8WUSDpOGjCg2MG9g820oerUcjZDG5v7lvUrkTzeKQrMexSgY7ldbW30v0kGPk8)"
      ],
      "metadata": {
        "id": "tF3gHmNoL9Pe"
      }
    },
    {
      "cell_type": "code",
      "source": [
        "%%capture\n",
        "!pip install google-generativeai\n",
        "!pip install yfinance pandas_ta"
      ],
      "metadata": {
        "id": "wBEMitvpHhkr"
      },
      "execution_count": null,
      "outputs": []
    },
    {
      "cell_type": "code",
      "source": [
        "import yfinance as yf\n",
        "import pandas_ta as ta\n",
        "import pandas as pd\n",
        "import os\n",
        "import google.generativeai as genai\n",
        "from IPython.display import Markdown"
      ],
      "metadata": {
        "id": "xo7rWj4UHMB-"
      },
      "execution_count": null,
      "outputs": []
    },
    {
      "cell_type": "code",
      "source": [
        "from google.colab import userdata\n",
        "os.environ[\"GOOGLE_API_KEY\"] = userdata.get('GOOGLE_API_KEY')\n",
        "genai.configure(api_key=os.environ[\"GOOGLE_API_KEY\"])"
      ],
      "metadata": {
        "id": "rX83JokTIZUS"
      },
      "execution_count": null,
      "outputs": []
    },
    {
      "cell_type": "code",
      "source": [
        "def convert_symbol(symbol):\n",
        "    # 转换股票代码格式 600888.SS -> 600888\n",
        "    return symbol.split('.')[0] if '.' in symbol else symbol"
      ],
      "metadata": {
        "id": "Q9_5h6e2L_4H"
      },
      "execution_count": null,
      "outputs": []
    },
    {
      "cell_type": "code",
      "source": [
        "# 获取股票价格历史数据\n",
        "def get_stock_price_history(symbol, period=\"1mo\"):\n",
        "    try:\n",
        "        stock = yf.Ticker(symbol)\n",
        "        history = stock.history(period=period)\n",
        "        return {'data': history.tail().to_dict('records')} if not history.empty else {'error': f\"{symbol} 无历史数据\"}\n",
        "    except Exception as e:\n",
        "        return {'error': f\"获取 {symbol} 历史价格失败: {str(e)}\"}"
      ],
      "metadata": {
        "id": "i9sx9IOpHYMR"
      },
      "execution_count": null,
      "outputs": []
    },
    {
      "cell_type": "code",
      "source": [
        "# 获取股票基本信息\n",
        "def get_stock_info(symbol):\n",
        "    try:\n",
        "        stock = yf.Ticker(symbol)\n",
        "        info = stock.info\n",
        "        return {\n",
        "            '公司名称': info.get('longName', 'N/A'),\n",
        "            '当前价格': info.get('currentPrice', info.get('regularMarketPrice', 'N/A')),\n",
        "            '市值': info.get('marketCap', 'N/A'),\n",
        "            '行业': info.get('industry', 'N/A'),\n",
        "            '52周高点': info.get('fiftyTwoWeekHigh', 'N/A'),\n",
        "            '52周低点': info.get('fiftyTwoWeekLow', 'N/A')\n",
        "        }\n",
        "    except Exception as e:\n",
        "        return {'error': f\"获取 {symbol} 信息失败: {str(e)}\"}"
      ],
      "metadata": {
        "id": "nLiHIs10HXV5"
      },
      "execution_count": null,
      "outputs": []
    },
    {
      "cell_type": "code",
      "source": [
        "# 获取财务数据\n",
        "def get_financial_data(symbol):\n",
        "    try:\n",
        "        stock = yf.Ticker(symbol)\n",
        "        financials = stock.financials\n",
        "        balance_sheet = stock.balance_sheet\n",
        "        return {\n",
        "            '营收': financials.loc['Total Revenue'].iloc[0] if not financials.empty else 'N/A',\n",
        "            '净利润': financials.loc['Net Income'].iloc[0] if not financials.empty else 'N/A',\n",
        "            '总资产': balance_sheet.loc['Total Assets'].iloc[0] if not balance_sheet.empty else 'N/A',\n",
        "            '总负债': balance_sheet.loc['Total Liabilities Net Minority Interest'].iloc[0] if not balance_sheet.empty else 'N/A',\n",
        "            'ROE': stock.info.get('returnOnEquity', 'N/A'),\n",
        "            '市盈率': stock.info.get('trailingPE', 'N/A')\n",
        "        }\n",
        "    except Exception as e:\n",
        "        return {'error': f\"获取 {symbol} 财务数据失败: {str(e)}\"}"
      ],
      "metadata": {
        "id": "LoDxsIejH-m2"
      },
      "execution_count": null,
      "outputs": []
    },
    {
      "cell_type": "code",
      "source": [
        "# 执行技术分析\n",
        "def get_technical_analysis(symbol, period=\"6mo\"):\n",
        "    try:\n",
        "        stock = yf.Ticker(symbol)\n",
        "        df = stock.history(period=period)\n",
        "        \n",
        "        if df.empty:\n",
        "            return {'error': \"无足够数据进行分析\"}\n",
        "\n",
        "        # 计算技术指标\n",
        "        df['RSI'] = ta.rsi(df['Close'], length=14)\n",
        "        macd = ta.macd(df['Close'])\n",
        "        df = pd.concat([df, macd], axis=1)\n",
        "        df['SMA_20'] = ta.sma(df['Close'], length=20)\n",
        "        df['SMA_60'] = ta.sma(df['Close'], length=60)\n",
        "        stoch = ta.stoch(df['High'], df['Low'], df['Close'])\n",
        "        df = pd.concat([df, stoch], axis=1)\n",
        "\n",
        "        latest = df.iloc[-1]\n",
        "        return {\n",
        "            '指标': {\n",
        "                'RSI': round(latest['RSI'], 2),\n",
        "                'MACD线': round(latest['MACD_12_26_9'], 2),\n",
        "                '信号线': round(latest['MACDs_12_26_9'], 2),\n",
        "                '20日均线': round(latest['SMA_20'], 2),\n",
        "                '60日均线': round(latest['SMA_60'], 2),\n",
        "                'K值': round(latest['STOCHk_14_3_3'], 2),\n",
        "                'D值': round(latest['STOCHd_14_3_3'], 2),\n",
        "                '收盘价': round(latest['Close'], 2)\n",
        "            },\n",
        "            '历史数据': df.tail().to_dict('records')\n",
        "        }\n",
        "    except Exception as e:\n",
        "        return {'error': f\"技术分析失败: {str(e)}\"}"
      ],
      "metadata": {
        "id": "YQyKmSOrIAw_"
      },
      "execution_count": null,
      "outputs": []
    },
    {
      "cell_type": "code",
      "source": [
        "# 使用Gemini进行专业分析\n",
        "def analyze_with_gemini(query, context):\n",
        "    model = genai.GenerativeModel('gemini-2.0-pro-exp-02-05')\n",
        "    formatted_context = \"\\n\".join(\n",
        "        [f\"{key}: {value}\" for key, value in context.items()]\n",
        "    )\n",
        "    prompt = f\"\"\"\n",
        "    作为专业金融分析师，请根据以下数据回答：\n",
        "    数据：\n",
        "    {formatted_context}\n",
        "    问题：{query}\n",
        "    请提供专业且清晰的分析和建议。\n",
        "    \"\"\"\n",
        "    try:\n",
        "        response = model.generate_content(prompt)\n",
        "        return response.text\n",
        "    except Exception as e:\n",
        "        return f\"分析请求失败: {str(e)}\""
      ],
      "metadata": {
        "id": "FoyhWXcwIEk9"
      },
      "execution_count": null,
      "outputs": []
    },
    {
      "cell_type": "code",
      "source": [
        "# 主交互系统\n",
        "def main():\n",
        "    print(\"欢迎使用智能股票分析系统（Gemini增强版）\")\n",
        "    print(\"支持功能：实时行情/财务分析/技术指标/综合评估\\n\")\n",
        "\n",
        "    while True:\n",
        "        raw_symbol = input(\"请输入股票代码 (例如：2330.TW) 或输入exit退出: \")\n",
        "        if raw_symbol.lower() in ['exit', 'quit']:\n",
        "            break\n",
        "\n",
        "        symbol = raw_symbol.upper()\n",
        "        display_symbol = convert_symbol(symbol)\n",
        "\n",
        "        # 获取多维度数据\n",
        "        price_data = get_stock_price_history(symbol)\n",
        "        info_data = get_stock_info(symbol)\n",
        "        financial_data = get_financial_data(symbol)\n",
        "        technical_data = get_technical_analysis(symbol)\n",
        "\n",
        "        # 构建上下文数据\n",
        "        context = {\n",
        "            '基本信息': info_data if 'error' not in info_data else info_data['error'],\n",
        "            '财务数据': financial_data if 'error' not in financial_data else financial_data['error'],\n",
        "            '技术指标': technical_data.get('指标', 'N/A'),\n",
        "            '价格走势': price_data.get('data', 'N/A')\n",
        "        }\n",
        "\n",
        "        # 获取用户问题\n",
        "        query = input(\"请输入分析需求 (例如：趋势分析/财务健康度/买卖建议): \")\n",
        "\n",
        "        # 生成分析报告\n",
        "        analysis = analyze_with_gemini(query, context)\n",
        "        display(Markdown(f\"**{display_symbol} 分析报告:**\\n{analysis}\"))\n",
        "\n",
        "if __name__ == \"__main__\":\n",
        "    main()"
      ],
      "metadata": {
        "id": "OBPznZIyIOR5"
      },
      "execution_count": null,
      "outputs": []
    }
  ]
}
