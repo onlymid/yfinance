{
  "nbformat": 4,
  "nbformat_minor": 0,
  "metadata": {
    "colab": {
      "provenance": []
    },
    "kernelspec": {
      "name": "python3",
      "display_name": "Python 3"
    },
    "language_info": {
      "name": "python"
    }
  },
  "cells": [
    {
      "cell_type": "markdown",
      "source": [
        "[![](https://mermaid.ink/img/pako:eNptkc1Kw0AYRV9lmHX6AlkIbdPWjStdOcliaKZNoPkhThaSFEqlJdhNQF2IEolQUYTiX6WCxZdxkvEtTJNaIzirOd89DMN3Pdi2VAJF2HWwrYE9STZBdqroc_mRnt7ywYi_L9hoqoBKZQvUULpYprM4Dceg2iUmVQq9lqd1jwXjJAr5_SR5HH7FEYsm_UKorwSfD2N29JZcTfndtQ8kVGb2ELDZq1LWk-MBj0-KN33QQGX-R-dPMZuc_-hNVOY_popT_toWSsxcWBik8zCJLtdRo4gKaJaRlcM2YhcRGz6n85vNghQoQIM4BtbVbI_eSpch1YhBZChmV5V0sNujMpTJfqZil1q7h2YbitRxiQBdW8WUSDpOGjCg2MG9g820oerUcjZDG5v7lvUrkTzeKQrMexSgY7ldbW30v0kGPk8?type=png)](https://mermaid.live/edit#pako:eNptkc1Kw0AYRV9lmHX6AlkIbdPWjStdOcliaKZNoPkhThaSFEqlJdhNQF2IEolQUYTiX6WCxZdxkvEtTJNaIzirOd89DMN3Pdi2VAJF2HWwrYE9STZBdqroc_mRnt7ywYi_L9hoqoBKZQvUULpYprM4Dceg2iUmVQq9lqd1jwXjJAr5_SR5HH7FEYsm_UKorwSfD2N29JZcTfndtQ8kVGb2ELDZq1LWk-MBj0-KN33QQGX-R-dPMZuc_-hNVOY_popT_toWSsxcWBik8zCJLtdRo4gKaJaRlcM2YhcRGz6n85vNghQoQIM4BtbVbI_eSpch1YhBZChmV5V0sNujMpTJfqZil1q7h2YbitRxiQBdW8WUSDpOGjCg2MG9g820oerUcjZDG5v7lvUrkTzeKQrMexSgY7ldbW30v0kGPk8)"
      ],
      "metadata": {
        "id": "tF3gHmNoL9Pe"
      }
    },
    {
      "cell_type": "code",
      "source": [
        "%%capture\n",
        "!pip install google-generativeai\n",
        "!pip install yfinance pandas_ta"
      ],
      "metadata": {
        "id": "wBEMitvpHhkr"
      },
      "execution_count": null,
      "outputs": []
    },
    {
      "cell_type": "code",
      "source": [
        "import yfinance as yf\n",
        "import pandas_ta as ta\n",
        "import pandas as pd\n",
        "import os\n",
        "import google.generativeai as genai\n",
        "from IPython.display import Markdown"
      ],
      "metadata": {
        "id": "xo7rWj4UHMB-"
      },
      "execution_count": null,
      "outputs": []
    },
    {
      "cell_type": "code",
      "source": [
        "from google.colab import userdata\n",
        "os.environ[\"GEMINI_API_KEY\"] = userdata.get('GEMINI_API_KEY')\n",
        "genai.configure(api_key=os.environ[\"GEMINI_API_KEY\"])"
      ],
      "metadata": {
        "id": "rX83JokTIZUS"
      },
      "execution_count": null,
      "outputs": []
    },
    {
      "cell_type": "code",
      "source": [
        "# 股票代码格式化函数\n",
        "def format_stock_symbol(symbol):\n",
        "    # 自动为纯数字的6位A股代码添加.SS后缀\n",
        "    if symbol.isdigit() and len(symbol) == 6:\n",
        "        return f\"{symbol}.SS\"\n",
        "    return symbol"
      ],
      "metadata": {
        "id": "i9sx9IOpHYMR"
      },
      "execution_count": null,
      "outputs": []
    },
    {
      "cell_type": "code",
      "source": [
        "# 股价走势查询函数\n",
        "def get_stock_price_history(symbol, period=\"1mo\"):\n",
        "    try:\n",
        "        stock = yf.Ticker(symbol)\n",
        "        history = stock.history(period=period)\n",
        "        return history.tail().to_dict('records')\n",
        "    except Exception as e:\n",
        "        return f\"无法获取 {symbol} 的历史价格: {str(e)}\""
      ],
      "metadata": {
        "id": "nLiHIs10HXV5"
      },
      "execution_count": null,
      "outputs": []
    },
    {
      "cell_type": "code",
      "source": [
        "# 主交互系统\n",
        "def main():\n",
        "    print(\"欢迎使用股票市场助手（Gemini版）！\")\n",
        "    print(\"可查询功能：实时报价/财务数据/技术分析/综合评估\")\n",
        "\n",
        "    while True:\n",
        "        symbol = input(\"\\n请输入股票代码 (例如：600888 或 2330.TW) 或输入exit退出: \")\n",
        "        \n",
        "        if symbol.lower() in ['exit', 'quit']:\n",
        "            break\n",
        "            \n",
        "        # 格式化股票代码\n",
        "        formatted_symbol = format_stock_symbol(symbol)\n",
        "        \n",
        "        # 获取基础数据\n",
        "        price_data = get_stock_price_history(formatted_symbol)\n",
        "        info_data = get_stock_info(formatted_symbol)\n",
        "        financial_data = get_financial_data(formatted_symbol)\n",
        "        technical_data = get_technical_analysis(formatted_symbol)\n",
        "\n",
        "        # 构建分析上下文\n",
        "        context = {\n",
        "            '基本信息': info_data,\n",
        "            '财务数据': financial_data,\n",
        "            '技术指标': technical_data.get('indicators', {}),\n",
        "            '历史数据': technical_data.get('historical_data', [])\n",
        "        }\n",
        "\n",
        "        # 获取用户问题\n",
        "        query = input(\"请输入您的分析问题 (例如：技术面分析/财务健康度/综合评估): \")\n",
        "\n",
        "        # 使用Gemini进行分析\n",
        "        analysis = analyze_with_gemini(query, context)\n",
        "        display(Markdown(f\"**Gemini分析结果:**\\n{analysis}\"))\n",
        "\n",
        "if __name__ == \"__main__\":\n",
        "    main()"
      ],
      "metadata": {
        "id": "OBPznZIyIOR5"
      },
      "execution_count": null,
      "outputs": []
    }
  ]
}
